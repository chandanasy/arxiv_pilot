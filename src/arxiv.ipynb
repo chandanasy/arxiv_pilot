{
 "cells": [
  {
   "cell_type": "code",
   "execution_count": 21,
   "metadata": {},
   "outputs": [],
   "source": [
    "import loaders.arxiv as arxiv\n",
    "# import Client, Search\n",
    "client = arxiv.Client(page_size=2000, )"
   ]
  },
  {
   "cell_type": "code",
   "execution_count": 22,
   "metadata": {},
   "outputs": [],
   "source": [
    "from urllib.parse import urlencode, quote\n",
    "\n",
    "query = 'influence functions'\n",
    "# url = \"https://export.arxiv.org/api/query?{}\"\n",
    "# url_params = {\n",
    "#     'search_query' : q\n",
    "# }\n",
    "\n",
    "# urlparams = urlencode(url_params, quote_via=quote)\n",
    "# url.format(urlparams)\n",
    "# urllib.parse.(q)"
   ]
  },
  {
   "cell_type": "code",
   "execution_count": 23,
   "metadata": {},
   "outputs": [],
   "source": [
    "from typing import List\n",
    "## restricting my search to category computer science\n",
    "# query = 'cat:Computer Science(cs) AND ti:influence functions'\n",
    "search = arxiv.Search(query=query, max_results=100, sort_by=arxiv.SortCriterion.SubmittedDate)\n",
    "results = client.results(search=search)"
   ]
  },
  {
   "cell_type": "code",
   "execution_count": 24,
   "metadata": {},
   "outputs": [],
   "source": [
    "res = [r for r in results]"
   ]
  },
  {
   "cell_type": "code",
   "execution_count": 25,
   "metadata": {},
   "outputs": [
    {
     "name": "stdout",
     "output_type": "stream",
     "text": [
      "The transcritical Bogdanov Takens bifurcation with boundary due to the risk perception on a recruitment epidemiological model math.DS 2024-03-21 05:42:42+00:00\n",
      "Evolving Benchmark Functions to Compare Evolutionary Algorithms via Genetic Programming cs.NE 2024-03-21 05:42:17+00:00\n",
      "Genetic Programming for Explainable Manifold Learning cs.NE 2024-03-21 05:17:22+00:00\n",
      "Temperature dependent conductivity, dielectric relaxation, electrical modulus and impedance spectroscopy of Ni substituted Na$_{3+2x}$Zr$_{2-x}$Ni$_{x}$Si$_2$PO$_{\\rm 12}$ cond-mat.mtrl-sci 2024-03-21 05:12:02+00:00\n",
      "3D Object Detection from Point Cloud via Voting Step Diffusion cs.CV 2024-03-21 05:04:52+00:00\n"
     ]
    }
   ],
   "source": [
    "for r in res[-5:]:\n",
    "    print(r.title, r.primary_category, r.published)"
   ]
  },
  {
   "cell_type": "code",
   "execution_count": 59,
   "metadata": {},
   "outputs": [
    {
     "ename": "IndexError",
     "evalue": "list index out of range",
     "output_type": "error",
     "traceback": [
      "\u001b[0;31m---------------------------------------------------------------------------\u001b[0m",
      "\u001b[0;31mIndexError\u001b[0m                                Traceback (most recent call last)",
      "Cell \u001b[0;32mIn[59], line 1\u001b[0m\n\u001b[0;32m----> 1\u001b[0m \u001b[43mres\u001b[49m\u001b[43m[\u001b[49m\u001b[38;5;241;43m0\u001b[39;49m\u001b[43m]\u001b[49m\n",
      "\u001b[0;31mIndexError\u001b[0m: list index out of range"
     ]
    }
   ],
   "source": []
  },
  {
   "cell_type": "code",
   "execution_count": null,
   "metadata": {},
   "outputs": [],
   "source": []
  }
 ],
 "metadata": {
  "kernelspec": {
   "display_name": "Python 3",
   "language": "python",
   "name": "python3"
  },
  "language_info": {
   "codemirror_mode": {
    "name": "ipython",
    "version": 3
   },
   "file_extension": ".py",
   "mimetype": "text/x-python",
   "name": "python",
   "nbconvert_exporter": "python",
   "pygments_lexer": "ipython3",
   "version": "3.12.2"
  }
 },
 "nbformat": 4,
 "nbformat_minor": 2
}
